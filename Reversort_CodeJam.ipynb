{
 "cells": [
  {
   "cell_type": "code",
   "execution_count": 1,
   "metadata": {},
   "outputs": [
    {
     "name": "stdout",
     "output_type": "stream",
     "text": [
      "3\n",
      "4\n",
      "4 2 1 3\n",
      "Case #1: 6\n",
      "2\n",
      "1 2\n",
      "Case #2: 1\n",
      "7\n",
      "7 6 5 4 3 2 1\n",
      "Case #3: 12\n"
     ]
    }
   ],
   "source": [
    "def Reversort(L):\n",
    "    cost = []\n",
    "    \n",
    "    for i in range(len(L)-1):\n",
    "        j = min(i, len(L))\n",
    "        j = L.index(j+1)\n",
    "        lst = reverse(L,i,j+1)\n",
    "        L = lst\n",
    "        cost.append(j - i + 1)\n",
    "    \n",
    "    return sum(cost)\n",
    "        \n",
    "        \n",
    "        \n",
    "def reverse(L, i, j):\n",
    "    a = L[i:j]\n",
    "    a.sort()\n",
    "    \n",
    "    lst = L[:i] + a + L[j:]\n",
    "    \n",
    "    return lst\n",
    "    \n",
    "\n",
    "if __name__ == '__main__':\n",
    "    \n",
    "    t = int(input())\n",
    "    for i in range(t):\n",
    "        n = int(input())\n",
    "        L = list(map(int, input().strip().split()))\n",
    "        result = Reversort(L)\n",
    "        print('Case #'+str(i+1)+':', result)\n",
    "        "
   ]
  }
 ],
 "metadata": {
  "kernelspec": {
   "display_name": "Python 3",
   "language": "python",
   "name": "python3"
  },
  "language_info": {
   "codemirror_mode": {
    "name": "ipython",
    "version": 3
   },
   "file_extension": ".py",
   "mimetype": "text/x-python",
   "name": "python",
   "nbconvert_exporter": "python",
   "pygments_lexer": "ipython3",
   "version": "3.7.4"
  }
 },
 "nbformat": 4,
 "nbformat_minor": 4
}
